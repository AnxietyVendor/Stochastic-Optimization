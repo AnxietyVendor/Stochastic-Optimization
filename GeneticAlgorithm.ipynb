{
  "nbformat": 4,
  "nbformat_minor": 0,
  "metadata": {
    "colab": {
      "name": "GeneticAlgorithm.ipynb",
      "provenance": []
    },
    "kernelspec": {
      "name": "python3",
      "display_name": "Python 3"
    },
    "language_info": {
      "name": "python"
    }
  },
  "cells": [
    {
      "cell_type": "code",
      "metadata": {
        "id": "6aKLPzDFx4ji"
      },
      "source": [
        "import numpy as np\n",
        "import matplotlib.pyplot as plt\n",
        "from mpl_toolkits.mplot3d import Axes3D\n",
        "from matplotlib import cm"
      ],
      "execution_count": 1,
      "outputs": []
    },
    {
      "cell_type": "code",
      "metadata": {
        "id": "ggGydI6vx9aQ"
      },
      "source": [
        "def fitness_func(X):\n",
        "    \"\"\"带入x和y计算目标函数，即适应度值，X是种群的表现型\"\"\"\n",
        "    a = 10\n",
        "    pi = np.pi\n",
        "    x = X[:, 0]\n",
        "    y = X[:, 1]\n",
        "    return 2 * a + x ** 2 - a * np.cos(2 * pi * x) + y ** 2 - a * np.cos(2 * pi * y)"
      ],
      "execution_count": 9,
      "outputs": []
    },
    {
      "cell_type": "code",
      "metadata": {
        "id": "d4m16FTUx_DK"
      },
      "source": [
        "def decode(x, a, b):\n",
        "    \"\"\"解码，即基因型到表现型\"\"\"\n",
        "    xt = 0\n",
        "    # 将二进制编码转换为十进制\n",
        "    for i in range(len(x)):\n",
        "        xt = xt + x[i] * np.power(2, i)\n",
        "    # 返回[a,b]区间内的值\n",
        "    return a + xt * (b - a) / (np.power(2, len(x)) - 1)"
      ],
      "execution_count": 2,
      "outputs": []
    },
    {
      "cell_type": "code",
      "metadata": {
        "id": "mbDH6QhMyAdQ"
      },
      "source": [
        "def decode_X(X: np.array):\n",
        "    \"\"\"对整个种群的基因解码，上面的decode是对某个染色体的某个变量进行解码\"\"\"\n",
        "    X2 = np.zeros((X.shape[0], 2))\n",
        "    for i in range(X.shape[0]):\n",
        "        xi = decode(X[i, :20], -5, 5) # x取值为[-5,5]\n",
        "        yi = decode(X[i, 20:], -5, 5) # y取值为[-5,5]\n",
        "        X2[i, :] = np.array([xi, yi])\n",
        "    return X2"
      ],
      "execution_count": 3,
      "outputs": []
    },
    {
      "cell_type": "code",
      "metadata": {
        "id": "TgBqCU99yCt5"
      },
      "source": [
        "def select(X, fitness):\n",
        "    \"\"\"根据轮盘赌法选择优秀个体\"\"\"\n",
        "    fitness = 1 / fitness  # fitness越小表示越优秀，被选中的概率越大，做 1/fitness 处理\n",
        "    fitness = fitness / fitness.sum()  # 归一化\n",
        "    idx = np.array(list(range(X.shape[0])))\n",
        "    X2_idx = np.random.choice(idx, size=X.shape[0], p=fitness)  # 根据概率选择X.shape[0]个行，允许出现重复值\n",
        "    X2 = X[X2_idx, :]\n",
        "    return X2"
      ],
      "execution_count": 4,
      "outputs": []
    },
    {
      "cell_type": "code",
      "metadata": {
        "id": "tWvvosi-yEHx"
      },
      "source": [
        "def crossover(X, c):\n",
        "    \"\"\"按顺序选择2个个体以概率c进行交叉操作\"\"\"\n",
        "    for i in range(0, X.shape[0], 2):\n",
        "        xa = X[i, :]\n",
        "        xb = X[i + 1, :]\n",
        "        for j in range(X.shape[1]):\n",
        "            # 产生0-1区间的均匀分布随机数，判断是否需要进行交叉替换\n",
        "            if np.random.rand() <= c:\n",
        "                xa[j], xb[j] = xb[j], xa[j]\n",
        "        X[i, :] = xa\n",
        "        X[i + 1, :] = xb\n",
        "    return X"
      ],
      "execution_count": 5,
      "outputs": []
    },
    {
      "cell_type": "code",
      "metadata": {
        "id": "Ry_4XsAoyG_J"
      },
      "source": [
        "def mutation(X, m):\n",
        "    \"\"\"变异操作\"\"\"\n",
        "    for i in range(X.shape[0]):\n",
        "        for j in range(X.shape[1]):\n",
        "            if np.random.rand() <= m: # 对既有解做递增处理\n",
        "                X[i, j] = (X[i, j] + 1) % 2\n",
        "    return X"
      ],
      "execution_count": 6,
      "outputs": []
    },
    {
      "cell_type": "code",
      "metadata": {
        "id": "2nIw5cmAyI2L"
      },
      "source": [
        "def ga():\n",
        "    \"\"\"遗传算法主函数\"\"\"\n",
        "    c = 0.3  # 交叉概率\n",
        "    m = 0.05  # 变异概率\n",
        "    best_fitness = []  # 记录每次迭代的效果\n",
        "    best_xy = [] # 记录了最优适应度\n",
        "    iter_num = 100  # 最大迭代次数\n",
        "    X0 = np.random.randint(0, 2, (50, 40))  # 随机初始化种群，为50*40的0-1矩阵\n",
        "    for i in range(iter_num):\n",
        "        X1 = decode_X(X0)  # 染色体解码\n",
        "        fitness = fitness_func(X1)  # 计算个体适应度\n",
        "        X2 = select(X0, fitness)  # 选择操作\n",
        "        X3 = crossover(X2, c)  # 交叉操作\n",
        "        X4 = mutation(X3, m)  # 变异操作\n",
        "        # 计算一轮迭代的效果\n",
        "        X5 = decode_X(X4)\n",
        "        fitness = fitness_func(X5) # 计算个体适应度\n",
        "        best_fitness.append(fitness.min()) # 更新最优适应度记录\n",
        "        x, y = X5[fitness.argmin()] # 找到对应最优适应度的x和y\n",
        "        best_xy.append((x, y)) # 更新x和y\n",
        "        X0 = X4\n",
        "    # 多次迭代后的最终效果\n",
        "    print(\"最优值是：%.5f\" % best_fitness[-1])\n",
        "\n",
        "    print(\"最优解是：x=%.5f, y=%.5f\" % best_xy[-1])\n",
        "    # 最优值是：0.00000\n",
        "    # 最优解是：x=0.00000, y=-0.00000\n",
        "    # 打印效果\n",
        "    #plt.plot(best_fitness, color='r')\n",
        "\n",
        "    fig = plt.figure(figsize=plt.figaspect(2.))\n",
        "    fig.suptitle('A tale of 2 subplots')\n",
        "\n",
        "    # First subplot\n",
        "    ax = fig.add_subplot(2, 1, 1)\n",
        "\n",
        "    ax.plot(best_fitness, color='r', markerfacecolor='green')\n",
        "    ax.grid(True)\n",
        "    ax.set_ylabel('The Value of Fitness Function')\n",
        "\n",
        "    # Second subplot\n",
        "    ax = fig.add_subplot(2, 1, 2, projection='3d')\n",
        "\n",
        "    X = np.arange(-5, 5, 0.25)\n",
        "    Y = np.arange(-5, 5, 0.25)\n",
        "    X, Y = np.meshgrid(X, Y)\n",
        "    Z = Z = 2 * 10 + X ** 2 - 10 * np.cos(2 * np.pi * x) + y ** 2 - 10 * np.cos(2 * np.pi * y)\n",
        "\n",
        "    X_best = [item[0] for item in best_xy]\n",
        "    Y_best = [item[1] for item in best_xy]\n",
        "\n",
        "    ax.view_init(0, 5)\n",
        "    \n",
        "    surf = ax.plot_surface(Y, X, Z, rstride=1, cstride=1,\n",
        "                       linewidth=0, antialiased=False, cmap=cm.coolwarm, shade=True, alpha = 0.2)\n",
        "    curve = ax.plot(X_best, Y_best, best_fitness, color='r')\n",
        "    ax.set_zlim(-5, 5)\n",
        "\n",
        "    plt.show()\n",
        "    "
      ],
      "execution_count": 28,
      "outputs": []
    },
    {
      "cell_type": "code",
      "metadata": {
        "colab": {
          "base_uri": "https://localhost:8080/",
          "height": 557
        },
        "id": "_sQW5JRHx5nQ",
        "outputId": "9293ec76-0edf-43dc-fa7b-5780646d8cfd"
      },
      "source": [
        "ga()"
      ],
      "execution_count": 31,
      "outputs": [
        {
          "output_type": "stream",
          "text": [
            "最优值是：0.00000\n",
            "最优解是：x=0.00000, y=-0.00000\n"
          ],
          "name": "stdout"
        },
        {
          "output_type": "display_data",
          "data": {
            "image/png": "[encoded data removed]",
            "text/plain": [
              "<Figure size 288x576 with 2 Axes>"
            ]
          },
          "metadata": {
            "tags": [],
            "needs_background": "light"
          }
        }
      ]
    }
  ]
}